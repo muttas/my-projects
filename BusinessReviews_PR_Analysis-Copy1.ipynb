{
 "cells": [
  {
   "cell_type": "code",
   "execution_count": 1,
   "id": "cd004d85",
   "metadata": {},
   "outputs": [],
   "source": [
    "import pandas as pd\n",
    "df = pd.read_excel('IN_iteration1_3k_model_evaluation.xlsx')"
   ]
  },
  {
   "cell_type": "code",
   "execution_count": 2,
   "id": "686f7943",
   "metadata": {},
   "outputs": [],
   "source": [
    "### True Class - Business Count at 0.5 threshold"
   ]
  },
  {
   "cell_type": "code",
   "execution_count": 3,
   "id": "04af8fe9",
   "metadata": {
    "scrolled": true
   },
   "outputs": [
    {
     "data": {
      "text/plain": [
       "review_id             501\n",
       "review_text           501\n",
       "Final label           501\n",
       "Model_pred at 0.5     501\n",
       "Model_pred at 0.85    501\n",
       "Model_pred at 0.9     501\n",
       "Model_pred at 0.95    501\n",
       "dtype: int64"
      ]
     },
     "execution_count": 3,
     "metadata": {},
     "output_type": "execute_result"
    }
   ],
   "source": [
    "B_df = df.loc[(df['Final label'].str.contains('Business'))]\n",
    "B_df.count()"
   ]
  },
  {
   "cell_type": "code",
   "execution_count": 4,
   "id": "4793f17b",
   "metadata": {},
   "outputs": [],
   "source": [
    "### True Class - Consumer Count at 0.5 threshold"
   ]
  },
  {
   "cell_type": "code",
   "execution_count": 5,
   "id": "fb37c340",
   "metadata": {
    "scrolled": true
   },
   "outputs": [
    {
     "data": {
      "text/plain": [
       "review_id             732\n",
       "review_text           732\n",
       "Final label           732\n",
       "Model_pred at 0.5     732\n",
       "Model_pred at 0.85    732\n",
       "Model_pred at 0.9     732\n",
       "Model_pred at 0.95    732\n",
       "dtype: int64"
      ]
     },
     "execution_count": 5,
     "metadata": {},
     "output_type": "execute_result"
    }
   ],
   "source": [
    "C_df = df.loc[(df['Final label'].str.contains('Consumer'))]\n",
    "C_df.count()"
   ]
  },
  {
   "cell_type": "code",
   "execution_count": 6,
   "id": "037d4335",
   "metadata": {},
   "outputs": [],
   "source": [
    "### True Class - Unknown Count at 0.5 threshold"
   ]
  },
  {
   "cell_type": "code",
   "execution_count": 7,
   "id": "06ac6907",
   "metadata": {
    "scrolled": true
   },
   "outputs": [
    {
     "data": {
      "text/plain": [
       "review_id             1767\n",
       "review_text           1767\n",
       "Final label           1767\n",
       "Model_pred at 0.5     1767\n",
       "Model_pred at 0.85    1767\n",
       "Model_pred at 0.9     1767\n",
       "Model_pred at 0.95    1767\n",
       "dtype: int64"
      ]
     },
     "execution_count": 7,
     "metadata": {},
     "output_type": "execute_result"
    }
   ],
   "source": [
    "U_df = df.loc[(df['Final label'].str.contains('Unknown'))]\n",
    "U_df.count()"
   ]
  },
  {
   "cell_type": "markdown",
   "id": "e82e2b4a",
   "metadata": {},
   "source": [
    "### True Business Class distribution At 0.5 threshold"
   ]
  },
  {
   "cell_type": "code",
   "execution_count": 8,
   "id": "309b2577",
   "metadata": {},
   "outputs": [
    {
     "data": {
      "text/plain": [
       "review_id             462\n",
       "review_text           462\n",
       "Final label           462\n",
       "Model_pred at 0.5     462\n",
       "Model_pred at 0.85    462\n",
       "Model_pred at 0.9     462\n",
       "Model_pred at 0.95    462\n",
       "dtype: int64"
      ]
     },
     "execution_count": 8,
     "metadata": {},
     "output_type": "execute_result"
    }
   ],
   "source": [
    "new_df1 = df.loc[(df['Final label'].str.contains('Business'))& (df['Model_pred at 0.5'].str.contains('Business'))]\n",
    "#new_df1.reset_index()\n",
    "new_df1.count()"
   ]
  },
  {
   "cell_type": "code",
   "execution_count": 9,
   "id": "4827be37",
   "metadata": {},
   "outputs": [
    {
     "data": {
      "text/plain": [
       "review_id             30\n",
       "review_text           30\n",
       "Final label           30\n",
       "Model_pred at 0.5     30\n",
       "Model_pred at 0.85    30\n",
       "Model_pred at 0.9     30\n",
       "Model_pred at 0.95    30\n",
       "dtype: int64"
      ]
     },
     "execution_count": 9,
     "metadata": {},
     "output_type": "execute_result"
    }
   ],
   "source": [
    "new_df2 = df.loc[(df['Final label'].str.contains('Business'))& (df['Model_pred at 0.5'].str.contains('Consumer'))]\n",
    "#new_def2.reset_index()\n",
    "new_df2.count()"
   ]
  },
  {
   "cell_type": "code",
   "execution_count": 10,
   "id": "fd2a6d2b",
   "metadata": {},
   "outputs": [
    {
     "data": {
      "text/plain": [
       "review_id             9\n",
       "review_text           9\n",
       "Final label           9\n",
       "Model_pred at 0.5     9\n",
       "Model_pred at 0.85    9\n",
       "Model_pred at 0.9     9\n",
       "Model_pred at 0.95    9\n",
       "dtype: int64"
      ]
     },
     "execution_count": 10,
     "metadata": {},
     "output_type": "execute_result"
    }
   ],
   "source": [
    "new_df3 = df.loc[(df['Final label'].str.contains('Business'))& (df['Model_pred at 0.5'].str.contains('Unknown'))]\n",
    "#new_df3.reset_index()\n",
    "new_df3.count()"
   ]
  },
  {
   "cell_type": "markdown",
   "id": "aed0055d",
   "metadata": {},
   "source": [
    "### True Consumer Class distribution At 0.5 threshold"
   ]
  },
  {
   "cell_type": "code",
   "execution_count": 11,
   "id": "f4a094e3",
   "metadata": {
    "scrolled": false
   },
   "outputs": [
    {
     "data": {
      "text/plain": [
       "review_id             56\n",
       "review_text           56\n",
       "Final label           56\n",
       "Model_pred at 0.5     56\n",
       "Model_pred at 0.85    56\n",
       "Model_pred at 0.9     56\n",
       "Model_pred at 0.95    56\n",
       "dtype: int64"
      ]
     },
     "execution_count": 11,
     "metadata": {},
     "output_type": "execute_result"
    }
   ],
   "source": [
    "new_df4 = df.loc[(df['Final label'].str.contains('Consumer'))& (df['Model_pred at 0.5'].str.contains('Business'))]\n",
    "#new_df4.reset_index()\n",
    "new_df4.count()"
   ]
  },
  {
   "cell_type": "code",
   "execution_count": 12,
   "id": "30f45209",
   "metadata": {},
   "outputs": [
    {
     "data": {
      "text/plain": [
       "review_id             604\n",
       "review_text           604\n",
       "Final label           604\n",
       "Model_pred at 0.5     604\n",
       "Model_pred at 0.85    604\n",
       "Model_pred at 0.9     604\n",
       "Model_pred at 0.95    604\n",
       "dtype: int64"
      ]
     },
     "execution_count": 12,
     "metadata": {},
     "output_type": "execute_result"
    }
   ],
   "source": [
    "new_df5 = df.loc[(df['Final label'].str.contains('Consumer'))& (df['Model_pred at 0.5'].str.contains('Consumer'))]\n",
    "#new_df5.reset_index()\n",
    "new_df5.count()"
   ]
  },
  {
   "cell_type": "code",
   "execution_count": 13,
   "id": "de617492",
   "metadata": {},
   "outputs": [
    {
     "data": {
      "text/plain": [
       "review_id             72\n",
       "review_text           72\n",
       "Final label           72\n",
       "Model_pred at 0.5     72\n",
       "Model_pred at 0.85    72\n",
       "Model_pred at 0.9     72\n",
       "Model_pred at 0.95    72\n",
       "dtype: int64"
      ]
     },
     "execution_count": 13,
     "metadata": {},
     "output_type": "execute_result"
    }
   ],
   "source": [
    "new_df6 = df.loc[(df['Final label'].str.contains('Consumer'))& (df['Model_pred at 0.5'].str.contains('Unknown'))]\n",
    "#new_df6.reset_index()\n",
    "new_df6.count()"
   ]
  },
  {
   "cell_type": "markdown",
   "id": "933e2b6e",
   "metadata": {},
   "source": [
    "### True Unknown Class distribution At 0.5 threshold"
   ]
  },
  {
   "cell_type": "code",
   "execution_count": 14,
   "id": "66abf945",
   "metadata": {},
   "outputs": [
    {
     "data": {
      "text/plain": [
       "review_id             482\n",
       "review_text           482\n",
       "Final label           482\n",
       "Model_pred at 0.5     482\n",
       "Model_pred at 0.85    482\n",
       "Model_pred at 0.9     482\n",
       "Model_pred at 0.95    482\n",
       "dtype: int64"
      ]
     },
     "execution_count": 14,
     "metadata": {},
     "output_type": "execute_result"
    }
   ],
   "source": [
    "new_df7 = df.loc[(df['Final label'].str.contains('Unknown'))& (df['Model_pred at 0.5'].str.contains('Business'))]\n",
    "#new_df7.reset_index()\n",
    "new_df7.count()"
   ]
  },
  {
   "cell_type": "code",
   "execution_count": 15,
   "id": "d0c5f89e",
   "metadata": {},
   "outputs": [
    {
     "data": {
      "text/plain": [
       "review_id             366\n",
       "review_text           366\n",
       "Final label           366\n",
       "Model_pred at 0.5     366\n",
       "Model_pred at 0.85    366\n",
       "Model_pred at 0.9     366\n",
       "Model_pred at 0.95    366\n",
       "dtype: int64"
      ]
     },
     "execution_count": 15,
     "metadata": {},
     "output_type": "execute_result"
    }
   ],
   "source": [
    "new_df8 = df.loc[(df['Final label'].str.contains('Unknown'))& (df['Model_pred at 0.5'].str.contains('Consumer'))]\n",
    "#new_df8.reset_index()\n",
    "new_df8.count()"
   ]
  },
  {
   "cell_type": "code",
   "execution_count": 16,
   "id": "b84ff4d6",
   "metadata": {},
   "outputs": [
    {
     "data": {
      "text/plain": [
       "review_id             919\n",
       "review_text           919\n",
       "Final label           919\n",
       "Model_pred at 0.5     919\n",
       "Model_pred at 0.85    919\n",
       "Model_pred at 0.9     919\n",
       "Model_pred at 0.95    919\n",
       "dtype: int64"
      ]
     },
     "execution_count": 16,
     "metadata": {},
     "output_type": "execute_result"
    }
   ],
   "source": [
    "new_df9 = df.loc[(df['Final label'].str.contains('Unknown'))& (df['Model_pred at 0.5'].str.contains('Unknown'))]\n",
    "#new_df9.reset_index()\n",
    "new_df9.count()"
   ]
  },
  {
   "cell_type": "markdown",
   "id": "14239372",
   "metadata": {},
   "source": [
    "### Metrics at 0.5 threshold"
   ]
  },
  {
   "cell_type": "code",
   "execution_count": 17,
   "id": "b410fb90",
   "metadata": {},
   "outputs": [],
   "source": [
    "# Precision - Business @ 0.5 threshold"
   ]
  },
  {
   "cell_type": "code",
   "execution_count": 18,
   "id": "db76d054",
   "metadata": {},
   "outputs": [
    {
     "data": {
      "text/plain": [
       "46.0"
      ]
     },
     "execution_count": 18,
     "metadata": {},
     "output_type": "execute_result"
    }
   ],
   "source": [
    "pred_Business_df1 = pd.concat([new_df1, new_df4, new_df7])\n",
    "B_precision1 = round(((new_df1['review_id'].count()/pred_Business_df1['review_id'].count())* 100),0)\n",
    "B_precision1"
   ]
  },
  {
   "cell_type": "code",
   "execution_count": 19,
   "id": "b06bb4cf",
   "metadata": {},
   "outputs": [],
   "source": [
    "# Precision - Consumer @ 0.5 threshold"
   ]
  },
  {
   "cell_type": "code",
   "execution_count": 20,
   "id": "4c5f9c7d",
   "metadata": {},
   "outputs": [
    {
     "data": {
      "text/plain": [
       "60.0"
      ]
     },
     "execution_count": 20,
     "metadata": {},
     "output_type": "execute_result"
    }
   ],
   "source": [
    "pred_Consumer_df1 = pd.concat([new_df2, new_df5, new_df8])\n",
    "C_precision1 = round(((new_df5['review_id'].count()/pred_Consumer_df1['review_id'].count())* 100),0)\n",
    "C_precision1"
   ]
  },
  {
   "cell_type": "code",
   "execution_count": 21,
   "id": "3fd18f4c",
   "metadata": {},
   "outputs": [],
   "source": [
    "# Precision - Unknown @ 0.5 threshold"
   ]
  },
  {
   "cell_type": "code",
   "execution_count": 22,
   "id": "e19bd2e7",
   "metadata": {},
   "outputs": [
    {
     "data": {
      "text/plain": [
       "92.0"
      ]
     },
     "execution_count": 22,
     "metadata": {},
     "output_type": "execute_result"
    }
   ],
   "source": [
    "pred_Unknown_df1 = pd.concat([new_df3, new_df6, new_df9])\n",
    "U_precision1 = round(((new_df9['review_id'].count()/pred_Unknown_df1['review_id'].count())* 100),0)\n",
    "U_precision1"
   ]
  },
  {
   "cell_type": "code",
   "execution_count": 23,
   "id": "520360e0",
   "metadata": {},
   "outputs": [
    {
     "data": {
      "text/plain": [
       "92.0"
      ]
     },
     "execution_count": 23,
     "metadata": {},
     "output_type": "execute_result"
    }
   ],
   "source": [
    "# Recall - Business @ 0.5 threshold\n",
    "\n",
    "B_recal11 = round(((new_df1['review_id'].count()/B_df['review_id'].count())*100), 0)\n",
    "B_recal11"
   ]
  },
  {
   "cell_type": "code",
   "execution_count": 24,
   "id": "e4497177",
   "metadata": {},
   "outputs": [
    {
     "data": {
      "text/plain": [
       "83.0"
      ]
     },
     "execution_count": 24,
     "metadata": {},
     "output_type": "execute_result"
    }
   ],
   "source": [
    "# Recall - Consumer @ 0.5 threshold\n",
    "\n",
    "C_recal11 = round(((new_df5['review_id'].count()/C_df['review_id'].count())*100), 0)\n",
    "C_recal11"
   ]
  },
  {
   "cell_type": "code",
   "execution_count": 25,
   "id": "3052ab20",
   "metadata": {},
   "outputs": [
    {
     "data": {
      "text/plain": [
       "52.0"
      ]
     },
     "execution_count": 25,
     "metadata": {},
     "output_type": "execute_result"
    }
   ],
   "source": [
    "# Recall - Unknown @ 0.5 threshold\n",
    "\n",
    "U_recal11 = round(((new_df9['review_id'].count()/U_df['review_id'].count())*100), 0)\n",
    "U_recal11"
   ]
  },
  {
   "cell_type": "markdown",
   "id": "c3c1b462",
   "metadata": {},
   "source": [
    "### True Business Class distribution At 0.85 threshold"
   ]
  },
  {
   "cell_type": "code",
   "execution_count": 26,
   "id": "cd2b441b",
   "metadata": {},
   "outputs": [
    {
     "data": {
      "text/plain": [
       "review_id             105\n",
       "review_text           105\n",
       "Final label           105\n",
       "Model_pred at 0.5     105\n",
       "Model_pred at 0.85    105\n",
       "Model_pred at 0.9     105\n",
       "Model_pred at 0.95    105\n",
       "dtype: int64"
      ]
     },
     "execution_count": 26,
     "metadata": {},
     "output_type": "execute_result"
    }
   ],
   "source": [
    "new_df10 = df.loc[(df['Final label'].str.contains('Business'))& (df['Model_pred at 0.85'].str.contains('Business'))]\n",
    "new_df10.count()"
   ]
  },
  {
   "cell_type": "code",
   "execution_count": 27,
   "id": "92f031b2",
   "metadata": {},
   "outputs": [
    {
     "data": {
      "text/plain": [
       "review_id             9\n",
       "review_text           9\n",
       "Final label           9\n",
       "Model_pred at 0.5     9\n",
       "Model_pred at 0.85    9\n",
       "Model_pred at 0.9     9\n",
       "Model_pred at 0.95    9\n",
       "dtype: int64"
      ]
     },
     "execution_count": 27,
     "metadata": {},
     "output_type": "execute_result"
    }
   ],
   "source": [
    "new_df11 = df.loc[(df['Final label'].str.contains('Business'))& (df['Model_pred at 0.85'].str.contains('Consumer'))]\n",
    "new_df11.count()"
   ]
  },
  {
   "cell_type": "code",
   "execution_count": 28,
   "id": "fb4eca58",
   "metadata": {},
   "outputs": [
    {
     "data": {
      "text/plain": [
       "review_id             387\n",
       "review_text           387\n",
       "Final label           387\n",
       "Model_pred at 0.5     387\n",
       "Model_pred at 0.85    387\n",
       "Model_pred at 0.9     387\n",
       "Model_pred at 0.95    387\n",
       "dtype: int64"
      ]
     },
     "execution_count": 28,
     "metadata": {},
     "output_type": "execute_result"
    }
   ],
   "source": [
    "new_df12 = df.loc[(df['Final label'].str.contains('Business'))& (df['Model_pred at 0.85'].str.contains('Unknown'))]\n",
    "new_df12.count()"
   ]
  },
  {
   "cell_type": "markdown",
   "id": "5e56ac24",
   "metadata": {},
   "source": [
    "### True Consumer Class distribution At 0.85 threshold"
   ]
  },
  {
   "cell_type": "code",
   "execution_count": 29,
   "id": "a1829f74",
   "metadata": {},
   "outputs": [
    {
     "data": {
      "text/plain": [
       "review_id             2\n",
       "review_text           2\n",
       "Final label           2\n",
       "Model_pred at 0.5     2\n",
       "Model_pred at 0.85    2\n",
       "Model_pred at 0.9     2\n",
       "Model_pred at 0.95    2\n",
       "dtype: int64"
      ]
     },
     "execution_count": 29,
     "metadata": {},
     "output_type": "execute_result"
    }
   ],
   "source": [
    "new_df13 = df.loc[(df['Final label'].str.contains('Consumer'))& (df['Model_pred at 0.85'].str.contains('Business'))]\n",
    "new_df13.count()"
   ]
  },
  {
   "cell_type": "code",
   "execution_count": 30,
   "id": "a94d390b",
   "metadata": {},
   "outputs": [
    {
     "data": {
      "text/plain": [
       "review_id             144\n",
       "review_text           144\n",
       "Final label           144\n",
       "Model_pred at 0.5     144\n",
       "Model_pred at 0.85    144\n",
       "Model_pred at 0.9     144\n",
       "Model_pred at 0.95    144\n",
       "dtype: int64"
      ]
     },
     "execution_count": 30,
     "metadata": {},
     "output_type": "execute_result"
    }
   ],
   "source": [
    "new_df14 = df.loc[(df['Final label'].str.contains('Consumer'))& (df['Model_pred at 0.85'].str.contains('Consumer'))]\n",
    "new_df14.count()"
   ]
  },
  {
   "cell_type": "code",
   "execution_count": 31,
   "id": "286875fa",
   "metadata": {},
   "outputs": [
    {
     "data": {
      "text/plain": [
       "review_id             586\n",
       "review_text           586\n",
       "Final label           586\n",
       "Model_pred at 0.5     586\n",
       "Model_pred at 0.85    586\n",
       "Model_pred at 0.9     586\n",
       "Model_pred at 0.95    586\n",
       "dtype: int64"
      ]
     },
     "execution_count": 31,
     "metadata": {},
     "output_type": "execute_result"
    }
   ],
   "source": [
    "new_df15 = df.loc[(df['Final label'].str.contains('Consumer'))& (df['Model_pred at 0.85'].str.contains('Unknown'))]\n",
    "new_df15.count()"
   ]
  },
  {
   "cell_type": "markdown",
   "id": "ee17ab2e",
   "metadata": {},
   "source": [
    "### True Unknown Class distribution At 0.85 threshold"
   ]
  },
  {
   "cell_type": "code",
   "execution_count": 32,
   "id": "772fb16b",
   "metadata": {},
   "outputs": [
    {
     "data": {
      "text/plain": [
       "review_id             31\n",
       "review_text           31\n",
       "Final label           31\n",
       "Model_pred at 0.5     31\n",
       "Model_pred at 0.85    31\n",
       "Model_pred at 0.9     31\n",
       "Model_pred at 0.95    31\n",
       "dtype: int64"
      ]
     },
     "execution_count": 32,
     "metadata": {},
     "output_type": "execute_result"
    }
   ],
   "source": [
    "new_df16 = df.loc[(df['Final label'].str.contains('Unknown'))& (df['Model_pred at 0.85'].str.contains('Business'))]\n",
    "new_df16.count()"
   ]
  },
  {
   "cell_type": "code",
   "execution_count": 33,
   "id": "eeae650a",
   "metadata": {},
   "outputs": [
    {
     "data": {
      "text/plain": [
       "review_id             17\n",
       "review_text           17\n",
       "Final label           17\n",
       "Model_pred at 0.5     17\n",
       "Model_pred at 0.85    17\n",
       "Model_pred at 0.9     17\n",
       "Model_pred at 0.95    17\n",
       "dtype: int64"
      ]
     },
     "execution_count": 33,
     "metadata": {},
     "output_type": "execute_result"
    }
   ],
   "source": [
    "new_df17 = df.loc[(df['Final label'].str.contains('Unknown'))& (df['Model_pred at 0.85'].str.contains('Consumer'))]\n",
    "new_df17.count()"
   ]
  },
  {
   "cell_type": "code",
   "execution_count": 34,
   "id": "bed60381",
   "metadata": {},
   "outputs": [
    {
     "data": {
      "text/plain": [
       "review_id             1719\n",
       "review_text           1719\n",
       "Final label           1719\n",
       "Model_pred at 0.5     1719\n",
       "Model_pred at 0.85    1719\n",
       "Model_pred at 0.9     1719\n",
       "Model_pred at 0.95    1719\n",
       "dtype: int64"
      ]
     },
     "execution_count": 34,
     "metadata": {},
     "output_type": "execute_result"
    }
   ],
   "source": [
    "new_df18 = df.loc[(df['Final label'].str.contains('Unknown'))& (df['Model_pred at 0.85'].str.contains('Unknown'))]\n",
    "new_df18.count()"
   ]
  },
  {
   "cell_type": "markdown",
   "id": "5f92fc68",
   "metadata": {},
   "source": [
    "### Metrics at 0.85 threshold"
   ]
  },
  {
   "cell_type": "code",
   "execution_count": 35,
   "id": "a2f1787a",
   "metadata": {},
   "outputs": [
    {
     "data": {
      "text/plain": [
       "76.0"
      ]
     },
     "execution_count": 35,
     "metadata": {},
     "output_type": "execute_result"
    }
   ],
   "source": [
    "# Precision - Business @ 0.85 threshold\n",
    "\n",
    "pred_Business_df2 = pd.concat([new_df10, new_df13, new_df16])\n",
    "B_precision2 = round(((new_df10['review_id'].count()/pred_Business_df2['review_id'].count())* 100),0)\n",
    "B_precision2"
   ]
  },
  {
   "cell_type": "code",
   "execution_count": 36,
   "id": "74fed529",
   "metadata": {},
   "outputs": [
    {
     "data": {
      "text/plain": [
       "85.0"
      ]
     },
     "execution_count": 36,
     "metadata": {},
     "output_type": "execute_result"
    }
   ],
   "source": [
    "# Precision - Consumer @ 0.85 threshold\n",
    "\n",
    "pred_Consumer_df2 = pd.concat([new_df11, new_df14, new_df17])\n",
    "C_precision2 = round(((new_df14['review_id'].count()/pred_Consumer_df2['review_id'].count())* 100),0)\n",
    "C_precision2"
   ]
  },
  {
   "cell_type": "code",
   "execution_count": 37,
   "id": "e00d3293",
   "metadata": {},
   "outputs": [
    {
     "data": {
      "text/plain": [
       "64.0"
      ]
     },
     "execution_count": 37,
     "metadata": {},
     "output_type": "execute_result"
    }
   ],
   "source": [
    "# Precision - Unknown @ 0.85 threshold\n",
    "\n",
    "pred_Unknown_df2 = pd.concat([new_df12, new_df15, new_df18])\n",
    "U_precision2 = round(((new_df18['review_id'].count()/pred_Unknown_df2['review_id'].count())* 100),0)\n",
    "U_precision2"
   ]
  },
  {
   "cell_type": "code",
   "execution_count": 38,
   "id": "3eb396b4",
   "metadata": {},
   "outputs": [
    {
     "data": {
      "text/plain": [
       "21.0"
      ]
     },
     "execution_count": 38,
     "metadata": {},
     "output_type": "execute_result"
    }
   ],
   "source": [
    "# Recall - Business @ 0.85 threshold\n",
    "\n",
    "B_recal12 = round(((new_df10['review_id'].count()/B_df['review_id'].count())*100), 0)\n",
    "B_recal12"
   ]
  },
  {
   "cell_type": "code",
   "execution_count": 39,
   "id": "d0d02117",
   "metadata": {},
   "outputs": [
    {
     "data": {
      "text/plain": [
       "20.0"
      ]
     },
     "execution_count": 39,
     "metadata": {},
     "output_type": "execute_result"
    }
   ],
   "source": [
    "# Recall - Consumer @ 0.85 threshold\n",
    "\n",
    "C_recal12 = round(((new_df14['review_id'].count()/C_df['review_id'].count())*100), 0)\n",
    "C_recal12"
   ]
  },
  {
   "cell_type": "code",
   "execution_count": 40,
   "id": "eb8cbfe5",
   "metadata": {},
   "outputs": [
    {
     "data": {
      "text/plain": [
       "97.0"
      ]
     },
     "execution_count": 40,
     "metadata": {},
     "output_type": "execute_result"
    }
   ],
   "source": [
    "# Recall - Consumer @ 0.85 threshold\n",
    "\n",
    "U_recal12 = round(((new_df18['review_id'].count()/U_df['review_id'].count())*100), 0)\n",
    "U_recal12"
   ]
  },
  {
   "cell_type": "markdown",
   "id": "db07d53f",
   "metadata": {},
   "source": [
    "### True Business Class distribution At 0.9 threshold"
   ]
  },
  {
   "cell_type": "code",
   "execution_count": 41,
   "id": "9432c42e",
   "metadata": {},
   "outputs": [
    {
     "data": {
      "text/plain": [
       "review_id             44\n",
       "review_text           44\n",
       "Final label           44\n",
       "Model_pred at 0.5     44\n",
       "Model_pred at 0.85    44\n",
       "Model_pred at 0.9     44\n",
       "Model_pred at 0.95    44\n",
       "dtype: int64"
      ]
     },
     "execution_count": 41,
     "metadata": {},
     "output_type": "execute_result"
    }
   ],
   "source": [
    "new_df19 = df.loc[(df['Final label'].str.contains('Business'))& (df['Model_pred at 0.9'].str.contains('Business'))]\n",
    "new_df19.count()"
   ]
  },
  {
   "cell_type": "code",
   "execution_count": 42,
   "id": "fb066f98",
   "metadata": {},
   "outputs": [
    {
     "data": {
      "text/plain": [
       "review_id             3\n",
       "review_text           3\n",
       "Final label           3\n",
       "Model_pred at 0.5     3\n",
       "Model_pred at 0.85    3\n",
       "Model_pred at 0.9     3\n",
       "Model_pred at 0.95    3\n",
       "dtype: int64"
      ]
     },
     "execution_count": 42,
     "metadata": {},
     "output_type": "execute_result"
    }
   ],
   "source": [
    "new_df20 = df.loc[(df['Final label'].str.contains('Business'))& (df['Model_pred at 0.9'].str.contains('Consumer'))]\n",
    "new_df20.count()"
   ]
  },
  {
   "cell_type": "code",
   "execution_count": 43,
   "id": "c11648bd",
   "metadata": {},
   "outputs": [
    {
     "data": {
      "text/plain": [
       "review_id             454\n",
       "review_text           454\n",
       "Final label           454\n",
       "Model_pred at 0.5     454\n",
       "Model_pred at 0.85    454\n",
       "Model_pred at 0.9     454\n",
       "Model_pred at 0.95    454\n",
       "dtype: int64"
      ]
     },
     "execution_count": 43,
     "metadata": {},
     "output_type": "execute_result"
    }
   ],
   "source": [
    "new_df21 = df.loc[(df['Final label'].str.contains('Business'))& (df['Model_pred at 0.9'].str.contains('Unknown'))]\n",
    "new_df21.count()"
   ]
  },
  {
   "cell_type": "markdown",
   "id": "661345d4",
   "metadata": {},
   "source": [
    "### True Consumer Class distribution At 0.9 threshold"
   ]
  },
  {
   "cell_type": "code",
   "execution_count": 44,
   "id": "6191f917",
   "metadata": {},
   "outputs": [
    {
     "data": {
      "text/plain": [
       "review_id             0\n",
       "review_text           0\n",
       "Final label           0\n",
       "Model_pred at 0.5     0\n",
       "Model_pred at 0.85    0\n",
       "Model_pred at 0.9     0\n",
       "Model_pred at 0.95    0\n",
       "dtype: int64"
      ]
     },
     "execution_count": 44,
     "metadata": {},
     "output_type": "execute_result"
    }
   ],
   "source": [
    "new_df22 = df.loc[(df['Final label'].str.contains('Consumer'))& (df['Model_pred at 0.9'].str.contains('Business'))]\n",
    "new_df22.count()"
   ]
  },
  {
   "cell_type": "code",
   "execution_count": 45,
   "id": "e9aeb100",
   "metadata": {},
   "outputs": [
    {
     "data": {
      "text/plain": [
       "review_id             72\n",
       "review_text           72\n",
       "Final label           72\n",
       "Model_pred at 0.5     72\n",
       "Model_pred at 0.85    72\n",
       "Model_pred at 0.9     72\n",
       "Model_pred at 0.95    72\n",
       "dtype: int64"
      ]
     },
     "execution_count": 45,
     "metadata": {},
     "output_type": "execute_result"
    }
   ],
   "source": [
    "new_df23 = df.loc[(df['Final label'].str.contains('Consumer'))& (df['Model_pred at 0.9'].str.contains('Consumer'))]\n",
    "new_df23.count()"
   ]
  },
  {
   "cell_type": "code",
   "execution_count": 46,
   "id": "988bb2b6",
   "metadata": {},
   "outputs": [
    {
     "data": {
      "text/plain": [
       "review_id             660\n",
       "review_text           660\n",
       "Final label           660\n",
       "Model_pred at 0.5     660\n",
       "Model_pred at 0.85    660\n",
       "Model_pred at 0.9     660\n",
       "Model_pred at 0.95    660\n",
       "dtype: int64"
      ]
     },
     "execution_count": 46,
     "metadata": {},
     "output_type": "execute_result"
    }
   ],
   "source": [
    "new_df24 = df.loc[(df['Final label'].str.contains('Consumer'))& (df['Model_pred at 0.9'].str.contains('Unknown'))]\n",
    "new_df24.count()"
   ]
  },
  {
   "cell_type": "markdown",
   "id": "4fb99518",
   "metadata": {},
   "source": [
    "### True Unknown Class distribution At 0.9 threshold"
   ]
  },
  {
   "cell_type": "code",
   "execution_count": 47,
   "id": "2f535338",
   "metadata": {},
   "outputs": [
    {
     "data": {
      "text/plain": [
       "review_id             13\n",
       "review_text           13\n",
       "Final label           13\n",
       "Model_pred at 0.5     13\n",
       "Model_pred at 0.85    13\n",
       "Model_pred at 0.9     13\n",
       "Model_pred at 0.95    13\n",
       "dtype: int64"
      ]
     },
     "execution_count": 47,
     "metadata": {},
     "output_type": "execute_result"
    }
   ],
   "source": [
    "new_df25 = df.loc[(df['Final label'].str.contains('Unknown'))& (df['Model_pred at 0.9'].str.contains('Business'))]\n",
    "new_df25.count()"
   ]
  },
  {
   "cell_type": "code",
   "execution_count": 48,
   "id": "fae50838",
   "metadata": {},
   "outputs": [
    {
     "data": {
      "text/plain": [
       "review_id             8\n",
       "review_text           8\n",
       "Final label           8\n",
       "Model_pred at 0.5     8\n",
       "Model_pred at 0.85    8\n",
       "Model_pred at 0.9     8\n",
       "Model_pred at 0.95    8\n",
       "dtype: int64"
      ]
     },
     "execution_count": 48,
     "metadata": {},
     "output_type": "execute_result"
    }
   ],
   "source": [
    "new_df26 = df.loc[(df['Final label'].str.contains('Unknown'))& (df['Model_pred at 0.9'].str.contains('Consumer'))]\n",
    "new_df26.count()"
   ]
  },
  {
   "cell_type": "code",
   "execution_count": 49,
   "id": "b9011a79",
   "metadata": {},
   "outputs": [
    {
     "data": {
      "text/plain": [
       "review_id             1746\n",
       "review_text           1746\n",
       "Final label           1746\n",
       "Model_pred at 0.5     1746\n",
       "Model_pred at 0.85    1746\n",
       "Model_pred at 0.9     1746\n",
       "Model_pred at 0.95    1746\n",
       "dtype: int64"
      ]
     },
     "execution_count": 49,
     "metadata": {},
     "output_type": "execute_result"
    }
   ],
   "source": [
    "new_df27 = df.loc[(df['Final label'].str.contains('Unknown'))& (df['Model_pred at 0.9'].str.contains('Unknown'))]\n",
    "new_df27.count()"
   ]
  },
  {
   "cell_type": "markdown",
   "id": "cfd0723c",
   "metadata": {},
   "source": [
    "### Metrics at 0.9 threshold"
   ]
  },
  {
   "cell_type": "code",
   "execution_count": 50,
   "id": "62c54479",
   "metadata": {},
   "outputs": [
    {
     "data": {
      "text/plain": [
       "77.0"
      ]
     },
     "execution_count": 50,
     "metadata": {},
     "output_type": "execute_result"
    }
   ],
   "source": [
    "# Precision - Business @ 0.85 threshold\n",
    "\n",
    "pred_Business_df3 = pd.concat([new_df19, new_df22, new_df25])\n",
    "B_precision3 = round(((new_df19['review_id'].count()/pred_Business_df3['review_id'].count())* 100),0)\n",
    "B_precision3"
   ]
  },
  {
   "cell_type": "code",
   "execution_count": 51,
   "id": "7d86643e",
   "metadata": {},
   "outputs": [
    {
     "data": {
      "text/plain": [
       "87.0"
      ]
     },
     "execution_count": 51,
     "metadata": {},
     "output_type": "execute_result"
    }
   ],
   "source": [
    "# Precision - Consumer @ 0.85 threshold\n",
    "\n",
    "pred_Consumer_df3 = pd.concat([new_df20, new_df23, new_df26])\n",
    "C_precision3 = round(((new_df23['review_id'].count()/pred_Consumer_df3['review_id'].count())* 100),0)\n",
    "C_precision3"
   ]
  },
  {
   "cell_type": "code",
   "execution_count": 52,
   "id": "eec7718c",
   "metadata": {},
   "outputs": [
    {
     "data": {
      "text/plain": [
       "61.0"
      ]
     },
     "execution_count": 52,
     "metadata": {},
     "output_type": "execute_result"
    }
   ],
   "source": [
    "# Precision - Unknown @ 0.85 threshold\n",
    "\n",
    "pred_Unknown_df3 = pd.concat([new_df21, new_df24, new_df27])\n",
    "U_precision3 = round(((new_df27['review_id'].count()/pred_Unknown_df3['review_id'].count())* 100),0)\n",
    "U_precision3"
   ]
  },
  {
   "cell_type": "code",
   "execution_count": 53,
   "id": "1b01d5a8",
   "metadata": {},
   "outputs": [
    {
     "data": {
      "text/plain": [
       "9.0"
      ]
     },
     "execution_count": 53,
     "metadata": {},
     "output_type": "execute_result"
    }
   ],
   "source": [
    "# Recall - Business @ 0.9 threshold\n",
    "\n",
    "B_recal13 = round(((new_df19['review_id'].count()/B_df['review_id'].count())*100), 0)\n",
    "B_recal13"
   ]
  },
  {
   "cell_type": "code",
   "execution_count": 54,
   "id": "6dbdb2fc",
   "metadata": {},
   "outputs": [
    {
     "data": {
      "text/plain": [
       "10.0"
      ]
     },
     "execution_count": 54,
     "metadata": {},
     "output_type": "execute_result"
    }
   ],
   "source": [
    "# Recall - Consumer @ 0.9 threshold\n",
    "\n",
    "C_recal13 = round(((new_df23['review_id'].count()/C_df['review_id'].count())*100), 0)\n",
    "C_recal13"
   ]
  },
  {
   "cell_type": "code",
   "execution_count": 55,
   "id": "cff91417",
   "metadata": {},
   "outputs": [
    {
     "data": {
      "text/plain": [
       "99.0"
      ]
     },
     "execution_count": 55,
     "metadata": {},
     "output_type": "execute_result"
    }
   ],
   "source": [
    "# Recall - Unknown @ 0.9 threshold\n",
    "\n",
    "U_recal13 = round(((new_df27['review_id'].count()/U_df['review_id'].count())*100), 0)\n",
    "U_recal13"
   ]
  },
  {
   "cell_type": "markdown",
   "id": "2e431309",
   "metadata": {},
   "source": [
    "### True Business Class distribution At 0.95 threshold"
   ]
  },
  {
   "cell_type": "code",
   "execution_count": 56,
   "id": "6b5348fc",
   "metadata": {},
   "outputs": [
    {
     "data": {
      "text/plain": [
       "review_id             7\n",
       "review_text           7\n",
       "Final label           7\n",
       "Model_pred at 0.5     7\n",
       "Model_pred at 0.85    7\n",
       "Model_pred at 0.9     7\n",
       "Model_pred at 0.95    7\n",
       "dtype: int64"
      ]
     },
     "execution_count": 56,
     "metadata": {},
     "output_type": "execute_result"
    }
   ],
   "source": [
    "new_df28 = df.loc[(df['Final label'].str.contains('Business'))& (df['Model_pred at 0.95'].str.contains('Business'))]\n",
    "new_df28.count()"
   ]
  },
  {
   "cell_type": "code",
   "execution_count": 57,
   "id": "9434affe",
   "metadata": {},
   "outputs": [
    {
     "data": {
      "text/plain": [
       "review_id             0\n",
       "review_text           0\n",
       "Final label           0\n",
       "Model_pred at 0.5     0\n",
       "Model_pred at 0.85    0\n",
       "Model_pred at 0.9     0\n",
       "Model_pred at 0.95    0\n",
       "dtype: int64"
      ]
     },
     "execution_count": 57,
     "metadata": {},
     "output_type": "execute_result"
    }
   ],
   "source": [
    "new_df29 = df.loc[(df['Final label'].str.contains('Business'))& (df['Model_pred at 0.95'].str.contains('Consumer'))]\n",
    "new_df29.count()"
   ]
  },
  {
   "cell_type": "code",
   "execution_count": 58,
   "id": "3cc32275",
   "metadata": {},
   "outputs": [
    {
     "data": {
      "text/plain": [
       "review_id             494\n",
       "review_text           494\n",
       "Final label           494\n",
       "Model_pred at 0.5     494\n",
       "Model_pred at 0.85    494\n",
       "Model_pred at 0.9     494\n",
       "Model_pred at 0.95    494\n",
       "dtype: int64"
      ]
     },
     "execution_count": 58,
     "metadata": {},
     "output_type": "execute_result"
    }
   ],
   "source": [
    "new_df30 = df.loc[(df['Final label'].str.contains('Business'))& (df['Model_pred at 0.95'].str.contains('Unknown'))]\n",
    "new_df30.count()"
   ]
  },
  {
   "cell_type": "markdown",
   "id": "4da19f0b",
   "metadata": {},
   "source": [
    "### True Consumer Class distribution At 0.95 threshold"
   ]
  },
  {
   "cell_type": "code",
   "execution_count": 59,
   "id": "6a9a380f",
   "metadata": {},
   "outputs": [
    {
     "data": {
      "text/plain": [
       "review_id             0\n",
       "review_text           0\n",
       "Final label           0\n",
       "Model_pred at 0.5     0\n",
       "Model_pred at 0.85    0\n",
       "Model_pred at 0.9     0\n",
       "Model_pred at 0.95    0\n",
       "dtype: int64"
      ]
     },
     "execution_count": 59,
     "metadata": {},
     "output_type": "execute_result"
    }
   ],
   "source": [
    "new_df31 = df.loc[(df['Final label'].str.contains('Consumer'))& (df['Model_pred at 0.95'].str.contains('Business'))]\n",
    "new_df31.count()"
   ]
  },
  {
   "cell_type": "code",
   "execution_count": 60,
   "id": "055c72c5",
   "metadata": {},
   "outputs": [
    {
     "data": {
      "text/plain": [
       "review_id             20\n",
       "review_text           20\n",
       "Final label           20\n",
       "Model_pred at 0.5     20\n",
       "Model_pred at 0.85    20\n",
       "Model_pred at 0.9     20\n",
       "Model_pred at 0.95    20\n",
       "dtype: int64"
      ]
     },
     "execution_count": 60,
     "metadata": {},
     "output_type": "execute_result"
    }
   ],
   "source": [
    "new_df32 = df.loc[(df['Final label'].str.contains('Consumer'))& (df['Model_pred at 0.95'].str.contains('Consumer'))]\n",
    "new_df32.count()"
   ]
  },
  {
   "cell_type": "code",
   "execution_count": 61,
   "id": "8fe38ae7",
   "metadata": {},
   "outputs": [
    {
     "data": {
      "text/plain": [
       "review_id             712\n",
       "review_text           712\n",
       "Final label           712\n",
       "Model_pred at 0.5     712\n",
       "Model_pred at 0.85    712\n",
       "Model_pred at 0.9     712\n",
       "Model_pred at 0.95    712\n",
       "dtype: int64"
      ]
     },
     "execution_count": 61,
     "metadata": {},
     "output_type": "execute_result"
    }
   ],
   "source": [
    "new_df33 = df.loc[(df['Final label'].str.contains('Consumer'))& (df['Model_pred at 0.95'].str.contains('Unknown'))]\n",
    "new_df33.count()"
   ]
  },
  {
   "cell_type": "markdown",
   "id": "17f9cbd7",
   "metadata": {},
   "source": [
    "### True Unknown Class distribution At 0.95 threshold"
   ]
  },
  {
   "cell_type": "code",
   "execution_count": 62,
   "id": "39d4bfc2",
   "metadata": {},
   "outputs": [
    {
     "data": {
      "text/plain": [
       "review_id             0\n",
       "review_text           0\n",
       "Final label           0\n",
       "Model_pred at 0.5     0\n",
       "Model_pred at 0.85    0\n",
       "Model_pred at 0.9     0\n",
       "Model_pred at 0.95    0\n",
       "dtype: int64"
      ]
     },
     "execution_count": 62,
     "metadata": {},
     "output_type": "execute_result"
    }
   ],
   "source": [
    "new_df34 = df.loc[(df['Final label'].str.contains('Unknown'))& (df['Model_pred at 0.95'].str.contains('Business'))]\n",
    "new_df34.count()"
   ]
  },
  {
   "cell_type": "code",
   "execution_count": 63,
   "id": "4a6f4910",
   "metadata": {},
   "outputs": [
    {
     "data": {
      "text/plain": [
       "review_id             4\n",
       "review_text           4\n",
       "Final label           4\n",
       "Model_pred at 0.5     4\n",
       "Model_pred at 0.85    4\n",
       "Model_pred at 0.9     4\n",
       "Model_pred at 0.95    4\n",
       "dtype: int64"
      ]
     },
     "execution_count": 63,
     "metadata": {},
     "output_type": "execute_result"
    }
   ],
   "source": [
    "new_df35 = df.loc[(df['Final label'].str.contains('Unknown'))& (df['Model_pred at 0.95'].str.contains('Consumer'))]\n",
    "new_df35.count()"
   ]
  },
  {
   "cell_type": "code",
   "execution_count": 64,
   "id": "745dfa19",
   "metadata": {},
   "outputs": [
    {
     "data": {
      "text/plain": [
       "review_id             1763\n",
       "review_text           1763\n",
       "Final label           1763\n",
       "Model_pred at 0.5     1763\n",
       "Model_pred at 0.85    1763\n",
       "Model_pred at 0.9     1763\n",
       "Model_pred at 0.95    1763\n",
       "dtype: int64"
      ]
     },
     "execution_count": 64,
     "metadata": {},
     "output_type": "execute_result"
    }
   ],
   "source": [
    "new_df36 = df.loc[(df['Final label'].str.contains('Unknown'))& (df['Model_pred at 0.95'].str.contains('Unknown'))]\n",
    "new_df36.count()"
   ]
  },
  {
   "cell_type": "markdown",
   "id": "baf3ca85",
   "metadata": {},
   "source": [
    "### Metrics at 0.95 threshold"
   ]
  },
  {
   "cell_type": "code",
   "execution_count": 65,
   "id": "37dd98cc",
   "metadata": {},
   "outputs": [
    {
     "data": {
      "text/plain": [
       "100.0"
      ]
     },
     "execution_count": 65,
     "metadata": {},
     "output_type": "execute_result"
    }
   ],
   "source": [
    "# Precision - Business @ 0.95 threshold\n",
    "\n",
    "pred_Business_df4 = pd.concat([new_df28, new_df31, new_df34])\n",
    "B_precision4 = round(((new_df28['review_id'].count()/pred_Business_df4['review_id'].count())* 100),0)\n",
    "B_precision4"
   ]
  },
  {
   "cell_type": "code",
   "execution_count": 66,
   "id": "858f3898",
   "metadata": {},
   "outputs": [
    {
     "data": {
      "text/plain": [
       "83.0"
      ]
     },
     "execution_count": 66,
     "metadata": {},
     "output_type": "execute_result"
    }
   ],
   "source": [
    "# Precision - Consumer @ 0.95 threshold\n",
    "\n",
    "pred_Consumer_df4 = pd.concat([new_df29, new_df32, new_df35])\n",
    "C_precision4 = round(((new_df32['review_id'].count()/pred_Consumer_df4['review_id'].count())* 100),0)\n",
    "C_precision4"
   ]
  },
  {
   "cell_type": "code",
   "execution_count": 67,
   "id": "7ed5de99",
   "metadata": {},
   "outputs": [
    {
     "data": {
      "text/plain": [
       "59.0"
      ]
     },
     "execution_count": 67,
     "metadata": {},
     "output_type": "execute_result"
    }
   ],
   "source": [
    "# Precision - Unknown @ 0.95 threshold\n",
    "\n",
    "pred_Unknown_df4 = pd.concat([new_df30, new_df33, new_df36])\n",
    "U_precision4 = round(((new_df36['review_id'].count()/pred_Unknown_df4['review_id'].count())* 100),0)\n",
    "U_precision4"
   ]
  },
  {
   "cell_type": "code",
   "execution_count": 68,
   "id": "3fb5287d",
   "metadata": {},
   "outputs": [
    {
     "data": {
      "text/plain": [
       "1.0"
      ]
     },
     "execution_count": 68,
     "metadata": {},
     "output_type": "execute_result"
    }
   ],
   "source": [
    "# Recall - Business @ 0.95 threshold\n",
    "\n",
    "B_recal14 = round(((new_df28['review_id'].count()/B_df['review_id'].count())*100), 0)\n",
    "B_recal14"
   ]
  },
  {
   "cell_type": "code",
   "execution_count": 69,
   "id": "9559c955",
   "metadata": {},
   "outputs": [
    {
     "data": {
      "text/plain": [
       "3.0"
      ]
     },
     "execution_count": 69,
     "metadata": {},
     "output_type": "execute_result"
    }
   ],
   "source": [
    "# Recall - Consumer @ 0.95 threshold\n",
    "\n",
    "C_recal14 = round(((new_df32['review_id'].count()/C_df['review_id'].count())*100), 0)\n",
    "C_recal14"
   ]
  },
  {
   "cell_type": "code",
   "execution_count": 70,
   "id": "1eb6f68e",
   "metadata": {},
   "outputs": [
    {
     "data": {
      "text/plain": [
       "100.0"
      ]
     },
     "execution_count": 70,
     "metadata": {},
     "output_type": "execute_result"
    }
   ],
   "source": [
    "# Recall - Unknown @ 0.95 threshold\n",
    "\n",
    "U_recal14 = round(((new_df36['review_id'].count()/U_df['review_id'].count())*100), 0)\n",
    "U_recal14"
   ]
  },
  {
   "cell_type": "markdown",
   "id": "aeb1bc63",
   "metadata": {},
   "source": [
    "# 1 Consolidated analysis @ 0.5 threshold"
   ]
  },
  {
   "cell_type": "markdown",
   "id": "c80c4e22",
   "metadata": {},
   "source": [
    "### Confusion metrics "
   ]
  },
  {
   "cell_type": "code",
   "execution_count": 71,
   "id": "3bc4f072",
   "metadata": {},
   "outputs": [
    {
     "data": {
      "text/plain": [
       "[462, 30, 9]"
      ]
     },
     "execution_count": 71,
     "metadata": {},
     "output_type": "execute_result"
    }
   ],
   "source": [
    "true_Business1 = [new_df1['review_id'].count(), new_df2['review_id'].count(), new_df3['review_id'].count()]\n",
    "true_Business1"
   ]
  },
  {
   "cell_type": "code",
   "execution_count": 72,
   "id": "402d7d9d",
   "metadata": {},
   "outputs": [
    {
     "data": {
      "text/plain": [
       "[56, 604, 72]"
      ]
     },
     "execution_count": 72,
     "metadata": {},
     "output_type": "execute_result"
    }
   ],
   "source": [
    "true_Consumer1 = [new_df4['review_id'].count(), new_df5['review_id'].count(), new_df6['review_id'].count()]\n",
    "true_Consumer1"
   ]
  },
  {
   "cell_type": "code",
   "execution_count": 73,
   "id": "36482132",
   "metadata": {},
   "outputs": [
    {
     "data": {
      "text/plain": [
       "[482, 366, 919]"
      ]
     },
     "execution_count": 73,
     "metadata": {},
     "output_type": "execute_result"
    }
   ],
   "source": [
    "true_Unknown1 = [new_df7['review_id'].count(), new_df8['review_id'].count(), new_df9['review_id'].count()]\n",
    "true_Unknown1"
   ]
  },
  {
   "cell_type": "markdown",
   "id": "cdbce42b",
   "metadata": {},
   "source": [
    "### PR metrics "
   ]
  },
  {
   "cell_type": "code",
   "execution_count": 74,
   "id": "3fdd864c",
   "metadata": {},
   "outputs": [
    {
     "data": {
      "text/plain": [
       "[46.0, 60.0, 92.0]"
      ]
     },
     "execution_count": 74,
     "metadata": {},
     "output_type": "execute_result"
    }
   ],
   "source": [
    "#Precision @ 0.5T\n",
    "\n",
    "precision_point_5 = [B_precision1, C_precision1, U_precision1]\n",
    "precision_point_5 "
   ]
  },
  {
   "cell_type": "code",
   "execution_count": 75,
   "id": "9ca35606",
   "metadata": {},
   "outputs": [
    {
     "data": {
      "text/plain": [
       "[92.0, 83.0, 52.0]"
      ]
     },
     "execution_count": 75,
     "metadata": {},
     "output_type": "execute_result"
    }
   ],
   "source": [
    "#Recall @ 0.5T\n",
    "\n",
    "recall_point_5 = [B_recal11, C_recal11, U_recal11]\n",
    "recall_point_5"
   ]
  },
  {
   "cell_type": "code",
   "execution_count": 76,
   "id": "ce00aa31",
   "metadata": {},
   "outputs": [
    {
     "data": {
      "text/plain": [
       "66.0"
      ]
     },
     "execution_count": 76,
     "metadata": {},
     "output_type": "execute_result"
    }
   ],
   "source": [
    "# f1_score @ 0.5T\n",
    "\n",
    "f1_score_Business1 = round((2*((B_precision1*B_recal11)/(B_precision1+B_recal11))),0)\n",
    "f1_score_Business1\n",
    "f1_score_Consumer1 = round((2*((C_precision1*C_recal11)/(C_precision1+C_recal11))),0)\n",
    "f1_score_Consumer1\n",
    "f1_score_Unknown1 = round((2*((U_precision1*U_recal11)/(U_precision1+U_recal11))),0)\n",
    "f1_score_Unknown1"
   ]
  },
  {
   "cell_type": "markdown",
   "id": "c2644a12",
   "metadata": {},
   "source": [
    "### Model Accuracy"
   ]
  },
  {
   "cell_type": "code",
   "execution_count": 77,
   "id": "8ed94570",
   "metadata": {},
   "outputs": [
    {
     "data": {
      "text/plain": [
       "66.0"
      ]
     },
     "execution_count": 77,
     "metadata": {},
     "output_type": "execute_result"
    }
   ],
   "source": [
    "Model_Accuracy1 = (new_df1['review_id'].count() + new_df5['review_id'].count() + new_df9['review_id'].count())/(B_df['review_id'].count()+ C_df['review_id'].count()+ U_df['review_id'].count())\n",
    "Model_Accuracy1 = round((Model_Accuracy1* 100), 0)\n",
    "Model_Accuracy1"
   ]
  },
  {
   "cell_type": "markdown",
   "id": "bb3d3750",
   "metadata": {},
   "source": [
    "# 2 Consolidated analysis @ 0.85 threshold"
   ]
  },
  {
   "cell_type": "markdown",
   "id": "a2421282",
   "metadata": {},
   "source": [
    "### Confusion metrics"
   ]
  },
  {
   "cell_type": "code",
   "execution_count": 78,
   "id": "008cc9e9",
   "metadata": {},
   "outputs": [
    {
     "data": {
      "text/plain": [
       "[105, 9, 387]"
      ]
     },
     "execution_count": 78,
     "metadata": {},
     "output_type": "execute_result"
    }
   ],
   "source": [
    "true_Business2 = [new_df10['review_id'].count(), new_df11['review_id'].count(), new_df12['review_id'].count()]\n",
    "true_Business2"
   ]
  },
  {
   "cell_type": "code",
   "execution_count": 79,
   "id": "cb364d0c",
   "metadata": {},
   "outputs": [
    {
     "data": {
      "text/plain": [
       "[2, 144, 586]"
      ]
     },
     "execution_count": 79,
     "metadata": {},
     "output_type": "execute_result"
    }
   ],
   "source": [
    "true_Consumer2 = [new_df13['review_id'].count(), new_df14['review_id'].count(), new_df15['review_id'].count()]\n",
    "true_Consumer2"
   ]
  },
  {
   "cell_type": "code",
   "execution_count": 80,
   "id": "90e8f79d",
   "metadata": {},
   "outputs": [
    {
     "data": {
      "text/plain": [
       "[31, 17, 1719]"
      ]
     },
     "execution_count": 80,
     "metadata": {},
     "output_type": "execute_result"
    }
   ],
   "source": [
    "true_Unknown2 = [new_df16['review_id'].count(), new_df17['review_id'].count(), new_df18['review_id'].count()]\n",
    "true_Unknown2"
   ]
  },
  {
   "cell_type": "markdown",
   "id": "35d26cd7",
   "metadata": {},
   "source": [
    "### PR metrics "
   ]
  },
  {
   "cell_type": "code",
   "execution_count": 81,
   "id": "1248a5a0",
   "metadata": {},
   "outputs": [
    {
     "data": {
      "text/plain": [
       "[76.0, 85.0, 64.0]"
      ]
     },
     "execution_count": 81,
     "metadata": {},
     "output_type": "execute_result"
    }
   ],
   "source": [
    "#Precision @ 0.85T\n",
    "\n",
    "precision_point_85 = [B_precision2, C_precision2, U_precision2]\n",
    "precision_point_85 "
   ]
  },
  {
   "cell_type": "code",
   "execution_count": 82,
   "id": "ccec5067",
   "metadata": {},
   "outputs": [
    {
     "data": {
      "text/plain": [
       "[21.0, 20.0, 97.0]"
      ]
     },
     "execution_count": 82,
     "metadata": {},
     "output_type": "execute_result"
    }
   ],
   "source": [
    "#Recall @ 0.85T\n",
    "\n",
    "recall_point_85 = [B_recal12, C_recal12, U_recal12]\n",
    "recall_point_85"
   ]
  },
  {
   "cell_type": "code",
   "execution_count": 83,
   "id": "04920855",
   "metadata": {},
   "outputs": [
    {
     "data": {
      "text/plain": [
       "77.0"
      ]
     },
     "execution_count": 83,
     "metadata": {},
     "output_type": "execute_result"
    }
   ],
   "source": [
    "# f1_score @ 0.85T\n",
    "\n",
    "f1_score_Business2 = round((2*((B_precision2*B_recal12)/(B_precision2+B_recal12))),0)\n",
    "f1_score_Business2\n",
    "f1_score_Consumer2 = round((2*((C_precision2*C_recal12)/(C_precision2+C_recal12))),0)\n",
    "f1_score_Consumer2\n",
    "f1_score_Unknown2 = round((2*((U_precision2*U_recal12)/(U_precision2+U_recal12))),0)\n",
    "f1_score_Unknown2"
   ]
  },
  {
   "cell_type": "markdown",
   "id": "117ab821",
   "metadata": {},
   "source": [
    "### Model Accuracy"
   ]
  },
  {
   "cell_type": "code",
   "execution_count": 84,
   "id": "3fff69f6",
   "metadata": {},
   "outputs": [
    {
     "data": {
      "text/plain": [
       "66.0"
      ]
     },
     "execution_count": 84,
     "metadata": {},
     "output_type": "execute_result"
    }
   ],
   "source": [
    "Model_Accuracy2 = (new_df10['review_id'].count() + new_df14['review_id'].count() + new_df18['review_id'].count())/(B_df['review_id'].count()+ C_df['review_id'].count()+ U_df['review_id'].count())\n",
    "Model_Accuracy2 = round((Model_Accuracy2* 100), 0)\n",
    "Model_Accuracy2"
   ]
  },
  {
   "cell_type": "markdown",
   "id": "eeaebb24",
   "metadata": {},
   "source": [
    "# 3 Consolidated analysis @ 0.9 threshold"
   ]
  },
  {
   "cell_type": "markdown",
   "id": "5c52c5de",
   "metadata": {},
   "source": [
    "### Confusion metrics"
   ]
  },
  {
   "cell_type": "code",
   "execution_count": 85,
   "id": "f3de5aac",
   "metadata": {},
   "outputs": [
    {
     "data": {
      "text/plain": [
       "[44, 3, 454]"
      ]
     },
     "execution_count": 85,
     "metadata": {},
     "output_type": "execute_result"
    }
   ],
   "source": [
    "true_Business3 = [new_df19['review_id'].count(), new_df20['review_id'].count(), new_df21['review_id'].count()]\n",
    "true_Business3"
   ]
  },
  {
   "cell_type": "code",
   "execution_count": 86,
   "id": "bcc672f5",
   "metadata": {},
   "outputs": [
    {
     "data": {
      "text/plain": [
       "[0, 72, 660]"
      ]
     },
     "execution_count": 86,
     "metadata": {},
     "output_type": "execute_result"
    }
   ],
   "source": [
    "true_Consumer3 = [new_df22['review_id'].count(), new_df23['review_id'].count(), new_df24['review_id'].count()]\n",
    "true_Consumer3"
   ]
  },
  {
   "cell_type": "code",
   "execution_count": 87,
   "id": "59aa3400",
   "metadata": {},
   "outputs": [
    {
     "data": {
      "text/plain": [
       "[13, 8, 1746]"
      ]
     },
     "execution_count": 87,
     "metadata": {},
     "output_type": "execute_result"
    }
   ],
   "source": [
    "true_Unknown3 = [new_df25['review_id'].count(), new_df26['review_id'].count(), new_df27['review_id'].count()]\n",
    "true_Unknown3"
   ]
  },
  {
   "cell_type": "markdown",
   "id": "eac95704",
   "metadata": {},
   "source": [
    "### PR metrics"
   ]
  },
  {
   "cell_type": "code",
   "execution_count": 88,
   "id": "e3ebb47b",
   "metadata": {},
   "outputs": [
    {
     "data": {
      "text/plain": [
       "[77.0, 87.0, 61.0]"
      ]
     },
     "execution_count": 88,
     "metadata": {},
     "output_type": "execute_result"
    }
   ],
   "source": [
    "#Precision @ 0.9T\n",
    "\n",
    "precision_point_9 = [B_precision3, C_precision3, U_precision3]\n",
    "precision_point_9 "
   ]
  },
  {
   "cell_type": "code",
   "execution_count": 89,
   "id": "4677d9bf",
   "metadata": {},
   "outputs": [
    {
     "data": {
      "text/plain": [
       "[9.0, 10.0, 99.0]"
      ]
     },
     "execution_count": 89,
     "metadata": {},
     "output_type": "execute_result"
    }
   ],
   "source": [
    "#Recall @ 0.9T\n",
    "\n",
    "recall_point_9 = [B_recal13, C_recal13, U_recal13]\n",
    "recall_point_9"
   ]
  },
  {
   "cell_type": "code",
   "execution_count": 90,
   "id": "d623f1b3",
   "metadata": {},
   "outputs": [
    {
     "data": {
      "text/plain": [
       "75.0"
      ]
     },
     "execution_count": 90,
     "metadata": {},
     "output_type": "execute_result"
    }
   ],
   "source": [
    "# f1_score @ 0.9T\n",
    "\n",
    "f1_score_Business3 = round((2*((B_precision3*B_recal13)/(B_precision3+B_recal13))),0)\n",
    "f1_score_Business3\n",
    "f1_score_Consumer3 = round((2*((C_precision3*C_recal13)/(C_precision3+C_recal13))),0)\n",
    "f1_score_Consumer3\n",
    "f1_score_Unknown3 = round((2*((U_precision3*U_recal13)/(U_precision3+U_recal13))),0)\n",
    "f1_score_Unknown3"
   ]
  },
  {
   "cell_type": "markdown",
   "id": "e16e01a4",
   "metadata": {},
   "source": [
    "### Model Accuracy"
   ]
  },
  {
   "cell_type": "code",
   "execution_count": 91,
   "id": "35ec58db",
   "metadata": {},
   "outputs": [
    {
     "data": {
      "text/plain": [
       "62.0"
      ]
     },
     "execution_count": 91,
     "metadata": {},
     "output_type": "execute_result"
    }
   ],
   "source": [
    "Model_Accuracy3 = (new_df19['review_id'].count() + new_df23['review_id'].count() + new_df27['review_id'].count())/(B_df['review_id'].count()+ C_df['review_id'].count()+ U_df['review_id'].count())\n",
    "Model_Accuracy3 = round((Model_Accuracy3* 100), 0)\n",
    "Model_Accuracy3"
   ]
  },
  {
   "cell_type": "markdown",
   "id": "be2b50eb",
   "metadata": {},
   "source": [
    "# 4 Consolidated analysis @ 0.95 threshold"
   ]
  },
  {
   "cell_type": "markdown",
   "id": "2f7e6f34",
   "metadata": {},
   "source": [
    "### Confusion metrics"
   ]
  },
  {
   "cell_type": "code",
   "execution_count": 92,
   "id": "8dd497d0",
   "metadata": {},
   "outputs": [
    {
     "data": {
      "text/plain": [
       "[7, 0, 494]"
      ]
     },
     "execution_count": 92,
     "metadata": {},
     "output_type": "execute_result"
    }
   ],
   "source": [
    "true_Business4 = [new_df28['review_id'].count(), new_df29['review_id'].count(), new_df30['review_id'].count()]\n",
    "true_Business4"
   ]
  },
  {
   "cell_type": "code",
   "execution_count": 93,
   "id": "2fabd2b3",
   "metadata": {},
   "outputs": [
    {
     "data": {
      "text/plain": [
       "[0, 20, 712]"
      ]
     },
     "execution_count": 93,
     "metadata": {},
     "output_type": "execute_result"
    }
   ],
   "source": [
    "true_Consumer4 = [new_df31['review_id'].count(), new_df32['review_id'].count(), new_df33['review_id'].count()]\n",
    "true_Consumer4"
   ]
  },
  {
   "cell_type": "code",
   "execution_count": 94,
   "id": "62f69a4d",
   "metadata": {},
   "outputs": [
    {
     "data": {
      "text/plain": [
       "[0, 4, 1763]"
      ]
     },
     "execution_count": 94,
     "metadata": {},
     "output_type": "execute_result"
    }
   ],
   "source": [
    "true_Unknown4 = [new_df34['review_id'].count(), new_df35['review_id'].count(), new_df36['review_id'].count()]\n",
    "true_Unknown4"
   ]
  },
  {
   "cell_type": "markdown",
   "id": "7d5ce3b0",
   "metadata": {},
   "source": [
    "### PR metrics "
   ]
  },
  {
   "cell_type": "code",
   "execution_count": 95,
   "id": "aa8a275b",
   "metadata": {},
   "outputs": [
    {
     "data": {
      "text/plain": [
       "[100.0, 83.0, 59.0]"
      ]
     },
     "execution_count": 95,
     "metadata": {},
     "output_type": "execute_result"
    }
   ],
   "source": [
    "#Precision @ 0.95T\n",
    "\n",
    "precision_point_95 = [B_precision4, C_precision4, U_precision4]\n",
    "precision_point_95"
   ]
  },
  {
   "cell_type": "code",
   "execution_count": 96,
   "id": "f3695d2b",
   "metadata": {},
   "outputs": [
    {
     "data": {
      "text/plain": [
       "[1.0, 3.0, 100.0]"
      ]
     },
     "execution_count": 96,
     "metadata": {},
     "output_type": "execute_result"
    }
   ],
   "source": [
    "#Recall @ 0.95T\n",
    "\n",
    "recall_point_95 = [B_recal14, C_recal14, U_recal14]\n",
    "recall_point_95"
   ]
  },
  {
   "cell_type": "code",
   "execution_count": 97,
   "id": "0385cf49",
   "metadata": {},
   "outputs": [
    {
     "data": {
      "text/plain": [
       "74.0"
      ]
     },
     "execution_count": 97,
     "metadata": {},
     "output_type": "execute_result"
    }
   ],
   "source": [
    "# f1_score @ 0.95T\n",
    "\n",
    "f1_score_Business4 = round((2*((B_precision4*B_recal14)/(B_precision4+B_recal14))),0)\n",
    "f1_score_Business4\n",
    "f1_score_Consumer4 = round((2*((C_precision4*C_recal14)/(C_precision4+C_recal14))),0)\n",
    "f1_score_Consumer4\n",
    "f1_score_Unknown4 = round((2*((U_precision4*U_recal14)/(U_precision4+U_recal14))),0)\n",
    "f1_score_Unknown4"
   ]
  },
  {
   "cell_type": "code",
   "execution_count": 98,
   "id": "bb584aae",
   "metadata": {},
   "outputs": [],
   "source": [
    "### Model Accuracy"
   ]
  },
  {
   "cell_type": "code",
   "execution_count": 99,
   "id": "e2769aa7",
   "metadata": {},
   "outputs": [],
   "source": [
    "Model_Accuracy4 = (new_df28['review_id'].count() + new_df32['review_id'].count() + new_df36['review_id'].count())/(B_df['review_id'].count()+ C_df['review_id'].count()+ U_df['review_id'].count())\n",
    "Model_Accuracy4 = round((Model_Accuracy4* 100), 0)"
   ]
  },
  {
   "cell_type": "markdown",
   "id": "0b313b6d",
   "metadata": {},
   "source": [
    "### Printing all results"
   ]
  },
  {
   "cell_type": "code",
   "execution_count": 100,
   "id": "1637eae8",
   "metadata": {},
   "outputs": [
    {
     "name": "stdout",
     "output_type": "stream",
     "text": [
      "\n",
      "Support Data:\n",
      "\n",
      "Business_sample: 501\n",
      "Consumer_sample: 732\n",
      "Unknown_sample: 1767 \n",
      "\n",
      "\n",
      "PR Analysis at 0.5 threshold:\n",
      "\n",
      "True_Business_distribution_0.5: [462, 30, 9]\n",
      "True_Consumer_distribution_0.5: [56, 604, 72]\n",
      "True_Unknown_distribution_0.5: [482, 366, 919]\n",
      "precision_Business_0.5: 46.0  recall_Business_0.5: 92.0  f1_score_Business_0.5: 61.0\n",
      "precision_Consumer_0.5: 60.0  recall_Consumer_0.5: 83.0  f1_score_Consumer_0.5: 70.0\n",
      "precision_Unknown_0.5: 92.0   recall_Unknown_0.5: 52.0   f1_score_Unknown_0.5: 66.0\n",
      "Model_accuracy_0.5: 66.0 \n",
      "\n",
      "\n",
      "PR Analysis at 0.85 threshold:\n",
      "\n",
      "True_Business_distribution_0.85: [105, 9, 387]\n",
      "True_Consumer_distribution_0.85: [2, 144, 586]\n",
      "True_Unknown_distribution_0.85: [31, 17, 1719]\n",
      "precision_Business_0.85: 76.0  recall_Business_0.85: 21.0  f1_score_Business_0.85: 33.0\n",
      "precision_Consumer_0.85: 85.0  recall_Consumer_0.85: 20.0  f1_score_Consumer_0.85: 32.0\n",
      "precision_Unknown_0.85: 64.0   recall_Unknown_0.85: 97.0   f1_score_Unknown_0.85: 77.0\n",
      "Model_accuracy_0.85: 66.0 \n",
      "\n",
      "\n",
      "PR Analysis at 0.9 threshold:\n",
      "\n",
      "True_Business_distribution_0.85: [44, 3, 454]\n",
      "True_Consumer_distribution_0.85: [0, 72, 660]\n",
      "True_Unknown_distribution_0.85: [13, 8, 1746]\n",
      "precision_Business_0.85: 77.0  recall_Business_0.85: 9.0   f1_score_Business_0.85: 16.0\n",
      "precision_Consumer_0.85: 87.0  recall_Consumer_0.85: 10.0  f1_score_Consumer_0.85: 18.0\n",
      "precision_Unknown_0.85: 61.0   recall_Unknown_0.85: 99.0   f1_score_Unknown_0.85: 75.0\n",
      "Model_accuracy_0.85: 62.0 \n",
      "\n",
      "\n",
      "PR Analysis at 0.95 threshold:\n",
      "\n",
      "True_Business_distribution_0.95: [7, 0, 494]\n",
      "True_Consumer_distribution_0.95: [0, 20, 712]\n",
      "True_Unknown_distribution_0.95: [0, 4, 1763]\n",
      "precision_Business_0.95: 100.0 recall_Business_0.95: 1.0   f1_score_Business_0.95: 2.0\n",
      "precision_Consumer_0.95: 83.0  recall_Consumer_0.95: 3.0   f1_score_Consumer_0.95: 6.0\n",
      "precision_Unknown_0.95: 59.0   recall_Unknown_0.95: 100.0  f1_score_Unknown_0.95: 74.0\n",
      "Model_accuracy_0.95: 60.0 \n",
      "\n",
      "\n"
     ]
    }
   ],
   "source": [
    "print('\\nSupport Data:\\n')\n",
    "print('Business_sample:', B_df['review_id'].count())\n",
    "print('Consumer_sample:', C_df['review_id'].count())\n",
    "print('Unknown_sample:', U_df['review_id'].count(), '\\n\\n')\n",
    "\n",
    "print('PR Analysis at 0.5 threshold:\\n')\n",
    "print('True_Business_distribution_0.5:', true_Business1)\n",
    "print('True_Consumer_distribution_0.5:', true_Consumer1)\n",
    "print('True_Unknown_distribution_0.5:', true_Unknown1)\n",
    "print('precision_Business_0.5:',B_precision1, end='  '  )\n",
    "print('recall_Business_0.5:',B_recal11, end='  '   )\n",
    "print('f1_score_Business_0.5:', f1_score_Business1)\n",
    "print('precision_Consumer_0.5:',C_precision1, end='  '  )\n",
    "print('recall_Consumer_0.5:',C_recal11, end='  '   )\n",
    "print('f1_score_Consumer_0.5:', f1_score_Consumer1)\n",
    "print('precision_Unknown_0.5:',U_precision1, end='   ' )\n",
    "print('recall_Unknown_0.5:',U_recal11, end='   '  )\n",
    "print('f1_score_Unknown_0.5:', f1_score_Unknown1)\n",
    "print('Model_accuracy_0.5:', Model_Accuracy1,'\\n\\n' )\n",
    "      \n",
    "print('PR Analysis at 0.85 threshold:\\n')\n",
    "print('True_Business_distribution_0.85:', true_Business2)\n",
    "print('True_Consumer_distribution_0.85:', true_Consumer2)\n",
    "print('True_Unknown_distribution_0.85:', true_Unknown2)\n",
    "print('precision_Business_0.85:',B_precision2, end='  '  )\n",
    "print('recall_Business_0.85:',B_recal12, end='  '   )\n",
    "print('f1_score_Business_0.85:', f1_score_Business2)\n",
    "print('precision_Consumer_0.85:',C_precision2, end='  '  )\n",
    "print('recall_Consumer_0.85:',C_recal12, end='  '   )\n",
    "print('f1_score_Consumer_0.85:', f1_score_Consumer2)\n",
    "print('precision_Unknown_0.85:',U_precision2, end='   ' )\n",
    "print('recall_Unknown_0.85:',U_recal12, end='   '  )\n",
    "print('f1_score_Unknown_0.85:', f1_score_Unknown2)\n",
    "print('Model_accuracy_0.85:', Model_Accuracy2,'\\n\\n' )\n",
    "\n",
    "print('PR Analysis at 0.9 threshold:\\n')\n",
    "print('True_Business_distribution_0.85:', true_Business3)\n",
    "print('True_Consumer_distribution_0.85:', true_Consumer3)\n",
    "print('True_Unknown_distribution_0.85:', true_Unknown3)\n",
    "print('precision_Business_0.85:',B_precision3, end='  '  )\n",
    "print('recall_Business_0.85:',B_recal13, end='   '   )\n",
    "print('f1_score_Business_0.85:', f1_score_Business3)\n",
    "print('precision_Consumer_0.85:',C_precision3, end='  '  )\n",
    "print('recall_Consumer_0.85:',C_recal13, end='  '   )\n",
    "print('f1_score_Consumer_0.85:', f1_score_Consumer3)\n",
    "print('precision_Unknown_0.85:',U_precision3, end='   ' )\n",
    "print('recall_Unknown_0.85:',U_recal13, end='   '  )\n",
    "print('f1_score_Unknown_0.85:', f1_score_Unknown3)\n",
    "print('Model_accuracy_0.85:', Model_Accuracy3,'\\n\\n' )\n",
    "\n",
    "print('PR Analysis at 0.95 threshold:\\n')\n",
    "print('True_Business_distribution_0.95:', true_Business4)\n",
    "print('True_Consumer_distribution_0.95:', true_Consumer4)\n",
    "print('True_Unknown_distribution_0.95:', true_Unknown4)\n",
    "print('precision_Business_0.95:',B_precision4, end=' '  )\n",
    "print('recall_Business_0.95:',B_recal14, end='   '   )\n",
    "print('f1_score_Business_0.95:', f1_score_Business4)\n",
    "print('precision_Consumer_0.95:',C_precision4, end='  '  )\n",
    "print('recall_Consumer_0.95:',C_recal14, end='   '   )\n",
    "print('f1_score_Consumer_0.95:', f1_score_Consumer4)\n",
    "print('precision_Unknown_0.95:',U_precision4, end='   ' )\n",
    "print('recall_Unknown_0.95:',U_recal14, end='  '  )\n",
    "print('f1_score_Unknown_0.95:', f1_score_Unknown4)\n",
    "print('Model_accuracy_0.95:', Model_Accuracy4,'\\n\\n' )\n",
    "\n"
   ]
  },
  {
   "cell_type": "code",
   "execution_count": null,
   "id": "2363c97e",
   "metadata": {},
   "outputs": [],
   "source": []
  },
  {
   "cell_type": "code",
   "execution_count": null,
   "id": "651b0246",
   "metadata": {},
   "outputs": [],
   "source": []
  },
  {
   "cell_type": "code",
   "execution_count": null,
   "id": "bb810720",
   "metadata": {},
   "outputs": [],
   "source": []
  },
  {
   "cell_type": "code",
   "execution_count": null,
   "id": "bb5b4970",
   "metadata": {},
   "outputs": [],
   "source": []
  }
 ],
 "metadata": {
  "celltoolbar": "Raw Cell Format",
  "kernelspec": {
   "display_name": "Python 3 (ipykernel)",
   "language": "python",
   "name": "python3"
  },
  "language_info": {
   "codemirror_mode": {
    "name": "ipython",
    "version": 3
   },
   "file_extension": ".py",
   "mimetype": "text/x-python",
   "name": "python",
   "nbconvert_exporter": "python",
   "pygments_lexer": "ipython3",
   "version": "3.9.0"
  }
 },
 "nbformat": 4,
 "nbformat_minor": 5
}
